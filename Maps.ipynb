{
 "cells": [
  {
   "cell_type": "markdown",
   "metadata": {},
   "source": [
    "# Email to interactive map\n",
    "\n",
    "When I came to Paris as scientist, I asked support to the wonderful agency [Science Accueil](http://www.science-accueil.org). \n",
    "Their services are truly great and I easily got set-up in France.\n",
    "\n",
    "However, reading their list of available flats was a nightmare, as  the list is truly a `textual list`:\n",
    "\n",
    "    \n",
    ">    **** HOUSING n° L xyz/uvw\n",
    ">\n",
    ">   Place du Pantheon\n",
    ">   75005 Paris\n",
    ">\n",
    ">   DESCRIPTION OF THE HOUSING\n",
    ">\n",
    ">   1-room apartment in building on the 1ère étage\n",
    "\n",
    ">   Living space: 7000 sq.m\n",
    "\n",
    ">   This housing is suitable for 79 persons maximum.\n",
    ">\n",
    ">   KITCHEN\n",
    ">\n",
    ">   Lorem ipsum dolor  ..\n",
    ">\n",
    ">   BATHROOM(S)\n",
    ">\n",
    ">   Mauris maximus turpis ..\n",
    ">\n",
    ">   ...\n",
    " \n",
    "\n",
    "If you do not know Paris (and I didn't), it is clearly difficult to understand the position and features of each flat, \n",
    "unless you make yourself a `map`.\n",
    "\n",
    "## Python's automagic\n",
    "Making a map of the flats and descriptions is so *booooring*.. let's make it automatic and fast!\n",
    "\n",
    "The following code makes the map for you (jump at the end to see an example) in 5 simple steps\n",
    "1. Parse the informations (as received, just copy and paste from the email)\n",
    "2. Geolocate the flats (googlemaps library)\n",
    "3. Extract informations from house description\n",
    "4. Optimize informations for visualization\n",
    "5. Visualize as an interactive map with HTML+JS (and save)\n",
    "\n",
    "*NOTA BENE* in the GitHub repo I use an `example.dat` flats description file stripped of any real flat information.\n",
    "It contains only two fictious flats: one in Tour Eiffel, and another in the Pantheon.\n",
    "\n",
    "## 0. Setup modules "
   ]
  },
  {
   "cell_type": "code",
   "execution_count": 1,
   "metadata": {
    "collapsed": false
   },
   "outputs": [],
   "source": [
    "import googlemaps\n",
    "# from datetime import datetime\n",
    "import json\n",
    "\n",
    "# Google Maps User API key\n",
    "mykey=open('gmaps.key').read().strip() # not shared on GitHub\n",
    "kword_house='**** HOUSING'\n",
    "kword_description='DESCRIPTION OF THE HOUSING'\n",
    "fnout = 'example_map.html'\n",
    "\n",
    "gmaps = googlemaps.Client(key=mykey)"
   ]
  },
  {
   "cell_type": "markdown",
   "metadata": {},
   "source": [
    "## 1. Parse the informations"
   ]
  },
  {
   "cell_type": "code",
   "execution_count": 2,
   "metadata": {
    "collapsed": true
   },
   "outputs": [],
   "source": [
    "# Load email content from file (presaved with copy&paste)\n",
    "with open('data/list_example.dat','r') as indata:\n",
    "    data=[j for j in indata.readlines() if j.strip()]"
   ]
  },
  {
   "cell_type": "code",
   "execution_count": 3,
   "metadata": {
    "collapsed": false
   },
   "outputs": [],
   "source": [
    "houses=[]\n",
    "addresses=[]\n",
    "house=[]\n",
    "address=''\n",
    "isaddress=True\n",
    "\n",
    "for j in data:\n",
    "    if kword_house in j:\n",
    "        # append old house to houses\n",
    "        if house:\n",
    "            houses.append(house)\n",
    "            isaddress=True\n",
    "        # then make a new house\n",
    "        house=[j,]\n",
    "    elif isaddress:\n",
    "        if kword_description in j:\n",
    "            isaddress=False\n",
    "            addresses.append(address.strip())\n",
    "            address=''\n",
    "        else:\n",
    "            address+=' '+j.strip()\n",
    "        # append house description\n",
    "        house.append(j)\n",
    "    else:\n",
    "        house.append(j)\n",
    "houses.append(house)"
   ]
  },
  {
   "cell_type": "code",
   "execution_count": 4,
   "metadata": {
    "collapsed": false
   },
   "outputs": [],
   "source": [
    "## Test\n",
    "# for j in xrange(max(len(houses),len(address))):\n",
    "#        print ' '.join([ q.strip() for q in houses[j][1:3]])\n",
    "#        print addresses[j]"
   ]
  },
  {
   "cell_type": "markdown",
   "metadata": {},
   "source": [
    "## 2. Geolocate the flats"
   ]
  },
  {
   "cell_type": "code",
   "execution_count": 5,
   "metadata": {
    "collapsed": true
   },
   "outputs": [],
   "source": [
    "geoloces=[]\n",
    "for j in addresses:\n",
    "    geoloc=gmaps.geocode(j)\n",
    "    geoloces.append(geoloc)"
   ]
  },
  {
   "cell_type": "code",
   "execution_count": 6,
   "metadata": {
    "collapsed": false
   },
   "outputs": [],
   "source": [
    "lats=[]\n",
    "lngs=[]\n",
    "ll=[]\n",
    "\n",
    "import geojson\n",
    "for j in geoloces:\n",
    "    lat=j[0]['geometry']['location']['lat']\n",
    "    lng=j[0]['geometry']['location']['lng']\n",
    "    lats.append(lat)\n",
    "    lngs.append(lng)\n",
    "\n",
    " \n",
    "# average flats postion to center the map\n",
    "mlat=sum(lats)/len(geoloces)\n",
    "mlng=sum(lngs)/len(geoloces)"
   ]
  },
  {
   "cell_type": "markdown",
   "metadata": {},
   "source": [
    "## 3. & 4. Extract and optimize informations"
   ]
  },
  {
   "cell_type": "code",
   "execution_count": 7,
   "metadata": {
    "collapsed": false
   },
   "outputs": [
    {
     "data": {
      "text/plain": [
       "2"
      ]
     },
     "execution_count": 7,
     "metadata": {},
     "output_type": "execute_result"
    }
   ],
   "source": [
    "import re\n",
    "housedescriptions=[]\n",
    "\n",
    "euro=\"&#8364;\"\n",
    "sqm=\" m<sup>2</sup>\"\n",
    "boldify = lambda x: \"<b>\"+x+\"</b>\"\n",
    "endl = \"<br/>\"\n",
    "hsep=' -- '\n",
    "\n",
    "def failsafeRE(restr,instr,grp=0,default=''):\n",
    "    try:\n",
    "        return re.search(restr,instr).group(grp)\n",
    "    except Exception,msg:\n",
    "#         print repr(msg),instr,restr\n",
    "        return default\n",
    "    \n",
    "for j,la,ln in zip(houses,lats,lngs):\n",
    "    tmp=r''.join(j)\n",
    "    \n",
    "    try:\n",
    "\n",
    "        link_url = link = failsafeRE('http.+',tmp,0)\n",
    "        link = '<a href=\"{0:s}\" target=\"_blank\">photos</a>'.format(link)\n",
    "        link2 = \"https://www.google.com/maps/preview/@{latitude:f},{longitude:f},13z\".format(latitude=la,longitude=ln)\n",
    "        link2 = '<a href=\"{0:s}\" target=\"_blank\">gmap</a>'.format(link2)\n",
    "        iframe = '<iframe src=\"{0:s}\" width=\"100%\" height=\"400px\" frameborder=\"0\"></iframe>'.format(link_url)\n",
    "        \n",
    "        rent = failsafeRE('(Monthly rent:)(.+)(euros)',tmp,2)+euro\n",
    "        surface = failsafeRE('(Living space:)(.+)( sq.m)',tmp,2)+sqm\n",
    "        station = failsafeRE('(Nearest Station:)(.+)',tmp,2)\n",
    "        \n",
    "        rs=boldify(rent+hsep+surface +hsep+station) +hsep + link+' '+link2+endl+iframe+endl\n",
    "        tmp=rs+tmp\n",
    "        \n",
    "        tobolden=re.findall(r'(?m)^[A-Z][A-Z0-9 \\':]+',tmp)\n",
    "        for tb in tobolden:\n",
    "            tmp=tmp.replace(tb,boldify(tb))\n",
    "        \n",
    "    except AttributeError,msg:\n",
    "        pass\n",
    "    \n",
    "    housedescriptions.append(tmp)\n",
    "#     print j[-6:]\n",
    "len(housedescriptions)"
   ]
  },
  {
   "cell_type": "markdown",
   "metadata": {},
   "source": [
    "## 5. Visualize as interactive map\n",
    "### 5.1 Prepare geoJSON data"
   ]
  },
  {
   "cell_type": "code",
   "execution_count": 8,
   "metadata": {
    "collapsed": false
   },
   "outputs": [],
   "source": [
    "for lat,lng,h in zip(lats,lngs,housedescriptions):\n",
    "    ll.append(geojson.Feature(geometry=geojson.Point([lng,lat]),properties={'popupContent':h.replace('\\n','<br/>')}))\n",
    "    \n",
    "GJSN=geojson.FeatureCollection(ll)\n",
    "data=geojson.dumps(GJSN)"
   ]
  },
  {
   "cell_type": "code",
   "execution_count": 9,
   "metadata": {
    "collapsed": false
   },
   "outputs": [],
   "source": [
    "# with open('houses.geojson', 'w') as fout:\n",
    "#     fout.write(data)"
   ]
  },
  {
   "cell_type": "markdown",
   "metadata": {
    "collapsed": true
   },
   "source": [
    "### 5.2 Fill in the HTML template\n",
    "I use `leaflet` to visualize the map and configure the map interaction"
   ]
  },
  {
   "cell_type": "code",
   "execution_count": 10,
   "metadata": {
    "collapsed": false
   },
   "outputs": [],
   "source": [
    "html=u\"\"\"\n",
    "<link rel=\"stylesheet\" href=\"http://cdn.leafletjs.com/leaflet/v0.7.7/leaflet.css\" />\n",
    "<link rel=\"stylesheet\" type=\"text/css\"\n",
    "          href=\"https://fonts.googleapis.com/css?family=Open+Sans\">\n",
    "<style>\n",
    "  body {{\n",
    "    font-family: 'Open Sans', sans;\n",
    "    font-size: 12px;\n",
    "  }}\n",
    "  #map {{\n",
    "    width:66%;\n",
    "    height:100%;\n",
    "    padding:0px !important;\n",
    "    margin:0px !important;\n",
    "    top:0px !important;\n",
    "    left:0px !important;\n",
    "    position: fixed !important;\n",
    "    display:block !important;\n",
    "  }}\n",
    "\n",
    " div.leaflet-popup-content{{\n",
    "     width:90ex !important;\n",
    "     height:500px;\n",
    "     overflow-y:scroll;\n",
    " }}\n",
    " #feature_infos {{\n",
    "    width:33%;\n",
    "    height: 100%;\n",
    "    background: rgba(255, 255, 255, 1);\n",
    "    position: absolute !important;\n",
    "    top:0px;\n",
    "    right:0px;\n",
    "    vertical-align: middle;\n",
    "    margin:0px !important;\n",
    "    border:0px solid grey;\n",
    " }}\n",
    "</style>\n",
    " \n",
    "<div id=\"map\"></div>\n",
    "<div id=\"feature_infos\"><span id=\"info\"></span></div>\n",
    "\n",
    "<script src=\"http://cdn.leafletjs.com/leaflet/v0.7.7/leaflet.js\"></script>\n",
    "<script>\n",
    "    var map = L.map('map').setView([{cx:f}, {cy:f}], 13);\n",
    "\n",
    "    function onEachFeature(feature, layer) {{    \n",
    "        layer.on('mouseover', function (e) {{\n",
    "            document.getElementById(\"info\").innerHTML = feature.properties.popupContent;     \n",
    "        }});\n",
    "                \n",
    "    }}\n",
    "        \n",
    "    L.tileLayer('http://{{s}}.tile.osm.org/{{z}}/{{x}}/{{y}}.png', \n",
    "        {{  maxZoom: 18,\n",
    "            attribution: 'Map data &copy; <a href=\"http://openstreetmap.org\">OpenStreetMap</a> contributors',\n",
    "        }}).addTo(map);\n",
    "        var data={data:s}\n",
    "        var geojsonMarkerOptions = {{\n",
    "            radius: 8,\n",
    "            fillColor: \"#ff7800\",\n",
    "            color: \"#000\",\n",
    "            weight: 1,\n",
    "            opacity: 1,\n",
    "            fillOpacity: 0.8\n",
    "        }};\n",
    "        L.geoJson(data,{{onEachFeature : onEachFeature}}).addTo(map);\n",
    "\t</script>\n",
    "\"\"\".format(data=data,cx=mlat,cy=mlng)\n"
   ]
  },
  {
   "cell_type": "markdown",
   "metadata": {},
   "source": [
    "### 5.3 Save and show"
   ]
  },
  {
   "cell_type": "code",
   "execution_count": 11,
   "metadata": {
    "collapsed": false
   },
   "outputs": [
    {
     "data": {
      "text/html": [
       "<a href=\"example_map.html\" target=\"_blank\">example_map.html</a>"
      ],
      "text/plain": [
       "<IPython.core.display.HTML object>"
      ]
     },
     "execution_count": 11,
     "metadata": {},
     "output_type": "execute_result"
    }
   ],
   "source": [
    "from IPython.display import HTML\n",
    "\n",
    "with open(fnout,'w') as fout:\n",
    "    fout.write('<html><head/><body>{0:s}</body><html/>'.format(html).replace('500px','100%'))\n",
    "HTML('<a href=\"{0:s}\" target=\"_blank\">{0:s}</a>'.format(fnout))"
   ]
  },
  {
   "cell_type": "code",
   "execution_count": 12,
   "metadata": {
    "collapsed": false
   },
   "outputs": [
    {
     "data": {
      "text/html": [
       "<iframe href=\"example_map.html\" src=\"example_map.html\" width=\"100%\" height=\"500px\"/>"
      ],
      "text/plain": [
       "<IPython.core.display.HTML object>"
      ]
     },
     "execution_count": 12,
     "metadata": {},
     "output_type": "execute_result"
    }
   ],
   "source": [
    "HTML('<iframe href=\"{0:s}\" src=\"{0:s}\" width=\"100%\" height=\"500px\"/>'.format(fnout))"
   ]
  },
  {
   "cell_type": "code",
   "execution_count": null,
   "metadata": {
    "collapsed": true
   },
   "outputs": [],
   "source": []
  },
  {
   "cell_type": "code",
   "execution_count": null,
   "metadata": {
    "collapsed": true
   },
   "outputs": [],
   "source": []
  }
 ],
 "metadata": {
  "anaconda-cloud": {},
  "kernelspec": {
   "display_name": "Python [default]",
   "language": "python",
   "name": "python2"
  },
  "language_info": {
   "codemirror_mode": {
    "name": "ipython",
    "version": 2
   },
   "file_extension": ".py",
   "mimetype": "text/x-python",
   "name": "python",
   "nbconvert_exporter": "python",
   "pygments_lexer": "ipython2",
   "version": "2.7.12"
  }
 },
 "nbformat": 4,
 "nbformat_minor": 0
}
